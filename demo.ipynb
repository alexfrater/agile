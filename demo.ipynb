{
 "cells": [
  {
   "cell_type": "code",
   "execution_count": null,
   "metadata": {},
   "outputs": [],
   "source": [
    "from sdk.ample import Ample\n",
    "\n",
    "from sdk.graphs.random_graph import RandomGraph\n",
    "#TODO change to just models in file sturcture\n",
    "from sdk.models.models import GCN_Model, GAT_Model, GraphSAGE_Model, GIN_Model, GCN_MLP_Model, MLP_Model, Edge_Embedding_Model, Interaction_Net_Model\n",
    "from sdk.graph_tracer import GraphTracer\n",
    "\n",
    "%load_ext autoreload\n",
    "%autoreload 2\n"
   ]
  },
  {
   "cell_type": "code",
   "execution_count": null,
   "metadata": {},
   "outputs": [],
   "source": [
    "#Import neural lam\n",
    "ample = Ample()\n",
    "edge = True\n",
    "#TODO fix this : If model does not use edges, dont set edges to be true - will brrak things \n",
    "graph = RandomGraph(num_nodes=10, avg_degree=1, num_channels=32, graph_precision=\"FLOAT_32\",edge_dim=32,edges = edge) #TODO add var"
   ]
  },
  {
   "cell_type": "code",
   "execution_count": null,
   "metadata": {},
   "outputs": [],
   "source": [
    "\n"
   ]
  },
  {
   "cell_type": "code",
   "execution_count": null,
   "metadata": {},
   "outputs": [],
   "source": [
    "#Trace model, find the constituent models e.g GCN, Interaction net and create a data flow graph\n",
    "\n",
    "import sys\n",
    "sys.path.insert(0,'/home/aw1223/ip/worktree_a/imports/neural-lam')\n",
    "\n",
    "import torch\n",
    "\n",
    "from neural_lam.models.graph_lam import GraphLAM\n",
    "from neural_lam.weather_dataset import WeatherDataset\n",
    "\n",
    "import argparse\n",
    "# Manually create the args Namespace object with the desired parameters\n",
    "args = argparse.Namespace(\n",
    "    dataset='meps_example',\n",
    "    model='graph_lam',\n",
    "    subset_ds=0,\n",
    "    seed=42,\n",
    "    n_workers=4,\n",
    "    epochs=200,\n",
    "    batch_size=4,\n",
    "    load=None,\n",
    "    restore_opt=0,\n",
    "    precision=32,\n",
    "    graph='1level',\n",
    "    hidden_dim=64,\n",
    "    hidden_layers=1,\n",
    "    processor_layers=4,\n",
    "    mesh_aggr='sum',\n",
    "    output_std=0,\n",
    "    ar_steps=1,\n",
    "    control_only=0,\n",
    "    loss='wmse',\n",
    "    step_length=3,\n",
    "    lr=0.001,\n",
    "    val_interval=1,\n",
    "    eval='test',\n",
    "    n_example_pred=1\n",
    ")\n",
    "print('Neural LAM Args', args)\n",
    "#Change to neural-lam directory\n",
    "%cd /home/aw1223/ip/worktree_a/imports/neural-lam\n",
    "# Initialize your model\n",
    "model = GraphLAM(args)\n",
    "\n",
    "\n",
    "#Remove this as its part of training not testing - just need one batch\n",
    "#Then send to device\n",
    "eval_loader = torch.utils.data.DataLoader(\n",
    "                WeatherDataset(\n",
    "                    args.dataset,\n",
    "                    # pred_length=max_pred_length,\n",
    "                    split=\"test\",\n",
    "                    subsample_step=args.step_length,\n",
    "                    subset=bool(args.subset_ds),\n",
    "                ),\n",
    "                args.batch_size,\n",
    "                shuffle=False,\n",
    "                num_workers=args.n_workers,\n",
    "            )\n",
    "\n",
    "for batch in eval_loader:\n",
    "    graph = batch  # Trigger forward pass\n",
    "    break \n",
    "# %cd -\n",
    "ample = Ample()\n",
    "#Use fx graph so that no need for eval loader and to_device is used properly\n",
    "model.to_device('ample',graph)\n",
    "\n",
    "#Send data before to load device\n",
    "#graph.todevice('ample')\n",
    "\n"
   ]
  },
  {
   "cell_type": "code",
   "execution_count": null,
   "metadata": {},
   "outputs": [],
   "source": [
    "%cd /home/aw1223/ip/worktree_a/imports/neural-lam\n",
    "ample.compile(model, eval_loader=eval_loader, trace_mode = 'hooks')\n"
   ]
  },
  {
   "cell_type": "code",
   "execution_count": null,
   "metadata": {},
   "outputs": [],
   "source": [
    "# ample.to_device()"
   ]
  },
  {
   "cell_type": "code",
   "execution_count": null,
   "metadata": {},
   "outputs": [],
   "source": [
    "# import pytorch_lightning as pl\n",
    "# trainer = pl.Trainer(\n",
    "#       max_epochs=args.epochs,\n",
    "#       deterministic=True,\n",
    "#       strategy=\"ddp_notebook\",\n",
    "#       # accelerator=device_name,\n",
    "#       # logger=logger,\n",
    "#       log_every_n_steps=1,\n",
    "#       # callbacks=[checkpoint_callback],\n",
    "#       check_val_every_n_epoch=args.val_interval,\n",
    "#       precision=args.precision,\n",
    "#   )\n",
    "\n",
    "\n",
    "\n",
    "# trainer.test(model=model, dataloaders=eval_loader)\n"
   ]
  },
  {
   "cell_type": "code",
   "execution_count": null,
   "metadata": {},
   "outputs": [],
   "source": [
    "#Use initalize to construct memory map for each model and then string together the dataflow between models"
   ]
  },
  {
   "cell_type": "code",
   "execution_count": null,
   "metadata": {},
   "outputs": [],
   "source": [
    "#Program Agile using device"
   ]
  }
 ],
 "metadata": {
  "kernelspec": {
   "display_name": "base",
   "language": "python",
   "name": "python3"
  },
  "language_info": {
   "codemirror_mode": {
    "name": "ipython",
    "version": 3
   },
   "file_extension": ".py",
   "mimetype": "text/x-python",
   "name": "python",
   "nbconvert_exporter": "python",
   "pygments_lexer": "ipython3",
   "version": "3.11.9"
  }
 },
 "nbformat": 4,
 "nbformat_minor": 2
}
