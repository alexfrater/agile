{
 "cells": [
  {
   "cell_type": "code",
   "execution_count": 2,
   "metadata": {},
   "outputs": [
    {
     "name": "stdout",
     "output_type": "stream",
     "text": [
      "The autoreload extension is already loaded. To reload it, use:\n",
      "  %reload_ext autoreload\n"
     ]
    }
   ],
   "source": [
    "import sys\n",
    "sys.path.append('/home/aw1223/ip/agile/sdk')\n",
    "%load_ext autoreload\n",
    "%autoreload 2\n",
    "from sdk.ample import Ample\n",
    "\n",
    "from sdk.graphs.random_graph import RandomGraph\n",
    "#TODO change to just models in file sturcture\n",
    "from sdk.models.models import GCN_Model, GAT_Model, GraphSAGE_Model, GIN_Model, GCN_MLP_Model, MLP_Model, Edge_Embedding_Model, Interaction_Net_Model\n",
    "from sdk.graph_tracer import GraphTracer\n",
    "\n",
    "\n"
   ]
  },
  {
   "cell_type": "code",
   "execution_count": null,
   "metadata": {},
   "outputs": [],
   "source": [
    "#Import neural lam\n",
    "ample = Ample()\n",
    "edge = True\n",
    "#TODO fix this : If model does not use edges, dont set edges to be true - will brrak things \n",
    "graph = RandomGraph(num_nodes=10, avg_degree=1, num_channels=32, graph_precision=\"FLOAT_32\",edge_dim=32,edges = edge) #TODO add var\n"
   ]
  },
  {
   "cell_type": "code",
   "execution_count": null,
   "metadata": {},
   "outputs": [
    {
     "name": "stdout",
     "output_type": "stream",
     "text": [
      "args Namespace(dataset='meps_example', model='graph_lam', subset_ds=0, seed=42, n_workers=4, epochs=200, batch_size=4, load=None, restore_opt=0, precision=32, graph='1level', hidden_dim=64, hidden_layers=1, processor_layers=4, mesh_aggr='sum', output_std=0, ar_steps=1, control_only=0, loss='wmse', step_length=3, lr=0.001, val_interval=1, eval='test', n_example_pred=1)\n",
      "args meps_example\n"
     ]
    }
   ],
   "source": [
    "import argparse\n",
    "\n",
    "# Manually create the args Namespace object with the desired parameters\n",
    "args = argparse.Namespace(\n",
    "    dataset='meps_example',\n",
    "    model='graph_lam',\n",
    "    subset_ds=0,\n",
    "    seed=42,\n",
    "    n_workers=4,\n",
    "    epochs=200,\n",
    "    batch_size=4,\n",
    "    load=None,\n",
    "    restore_opt=0,\n",
    "    precision=32,\n",
    "    graph='1level',\n",
    "    hidden_dim=64,\n",
    "    hidden_layers=1,\n",
    "    processor_layers=4,\n",
    "    mesh_aggr='sum',\n",
    "    output_std=0,\n",
    "    ar_steps=1,\n",
    "    control_only=0,\n",
    "    loss='wmse',\n",
    "    step_length=3,\n",
    "    lr=0.001,\n",
    "    val_interval=1,\n",
    "    eval='test',\n",
    "    n_example_pred=1\n",
    ")\n",
    "\n",
    "print('args', args)\n",
    "print('args', args.dataset)"
   ]
  },
  {
   "cell_type": "code",
   "execution_count": null,
   "metadata": {},
   "outputs": [
    {
     "name": "stderr",
     "output_type": "stream",
     "text": [
      "\n",
      "KeyboardInterrupt\n",
      "\n"
     ]
    }
   ],
   "source": [
    "#Trace model, find the constituent models e.g GCN, Interaction net and create a data flow graph\n",
    "\n",
    "sys.path.append('/home/aw1223/ip/agile/imports/neural-lam')\n",
    "\n",
    "\n",
    "from neural_lam.models.graph_lam import GraphLAM\n",
    "\n",
    "model_cls = GraphLAM(args)\n",
    "\n",
    "tracer = GraphTracer(model)\n",
    "\n",
    "# tracer.get_input_output_layers()\n",
    "# # # tracer.print_input_output_layers()\n",
    "# # tracer.draw()\n",
    "# ample.initialize_memory(model,graph)\n",
    "# ample.sim()"
   ]
  },
  {
   "cell_type": "code",
   "execution_count": null,
   "metadata": {},
   "outputs": [
    {
     "name": "stderr",
     "output_type": "stream",
     "text": [
      "1it [00:00, 12192.74it/s]\n",
      "2it [00:00, 16743.73it/s]\n"
     ]
    },
    {
     "name": "stdout",
     "output_type": "stream",
     "text": [
      "cd /home/aw1223/ip/agile/hw/sim\n",
      "==== Running command: cd /home/aw1223/ip/agile/hw/sim; make run_sim\n",
      "make -f Makefile.modelsim run_sim\n",
      "make[1]: Entering directory '/home/aw1223/ip/agile/hw/sim'\n",
      "set -o pipefail; LIBPYTHON_LOC=/home/aw1223/anaconda3/envs/ample/lib/libpython3.11.so.1.0 MODULE=runner TESTCASE= TOPLEVEL=\"work.top_wrapper_tb\" \\\n",
      "GPI_EXTRA= TOPLEVEL_LANG=verilog \\\n",
      " /mnt/applications/mentor/modelsim-2019.2/modelsim/modeltech/linux_x86_64/vsim -c -64 -l sim_build/modelsim.log -onfinish exit -do sim_build/../simulate_no_gui.do -quiet -suppress vsim-3015  -pli /home/aw1223/anaconda3/envs/ample/lib/python3.11/site-packages/cocotb/libs/libcocotbvpi_modelsim.so \\\n",
      " \\\n",
      "work.work_opt \\\n",
      " 2>&1 | tee sim_build/simulate.log\n",
      "Reading pref.tcl\n",
      "\n",
      "# 2019.2\n",
      "\n",
      "# vsim -c -l sim_build/modelsim.log -onfinish exit -do \"sim_build/../simulate_no_gui.do\" -quiet -suppress vsim-3015 -pli \"/home/aw1223/anaconda3/envs/ample/lib/python3.11/site-packages/cocotb/libs/libcocotbvpi_modelsim.so\" work.work_opt \n",
      "# Start time: 21:35:13 on Aug 08,2024\n",
      "# //  ModelSim SE-64 2019.2 Apr 16 2019 Linux 5.14.0-427.24.1.el9_4.x86_64\n",
      "# //\n",
      "# //  Copyright 1991-2019 Mentor Graphics Corporation\n",
      "# //  All Rights Reserved.\n",
      "# //\n",
      "# //  ModelSim SE-64 and its associated documentation contain trade\n",
      "# //  secrets and commercial or financial information that are the property of\n",
      "# //  Mentor Graphics Corporation and are privileged, confidential,\n",
      "# //  and exempt from disclosure under the Freedom of Information Act,\n",
      "# //  5 U.S.C. Section 552. Furthermore, this information\n",
      "# //  is prohibited from disclosure under the Trade Secrets Act,\n",
      "# //  18 U.S.C. Section 1905.\n",
      "# //\n",
      "#      -.--ns INFO     gpi                                ..mbed/gpi_embed.cpp:79   in set_program_name_in_venv        Did not detect Python virtual environment. Using system-wide Python interpreter\n",
      "#      -.--ns INFO     gpi                                ../gpi/GpiCommon.cpp:101  in gpi_print_registered_impl       VPI registered\n",
      "# do sim_build/../simulate_no_gui.do\n",
      "# 1\n",
      "# 1\n",
      "#      0.00ns INFO     cocotb                             Running on ModelSim SE-64 version 2019.2 2019.04\n",
      "#      0.00ns INFO     cocotb                             Running tests with cocotb v1.9.0 from /home/aw1223/anaconda3/envs/ample/lib/python3.11/site-packages/cocotb\n",
      "#      0.00ns INFO     cocotb                             Seeding Python random module with 1723149327\n",
      "#      0.00ns INFO     cocotb.regression                  Found test runner.graph_test\n",
      "#      0.00ns INFO     cocotb.regression                  running graph_test (1/1)\n",
      "#      0.00ns INFO     cocotb.top_wrapper_tb              ************************************************************\n",
      "#                                                         *                                                          *\n",
      "#                                                         *                   Starting Graph Test                    *\n",
      "#                                                         *                                                          *\n",
      "#                                                         ************************************************************\n",
      "# Addressing configuration for axil_interconnect instance top_wrapper_tb.top_i.axil_interconnect_i.axil_interconnect_inst\n",
      "#  0 ( 0): 00000000 / 30 -- 00000000-3fffffff\n",
      "#  1 ( 0): 40000000 / 30 -- 40000000-7fffffff\n",
      "#  2 ( 0): 80000000 / 30 -- 80000000-bfffffff\n",
      "#  3 ( 0): c0000000 / 30 -- c0000000-ffffffff\n",
      "#    295.00ns INFO     cocotb.top_wrapper_tb              Graph initialized with log level: 20\n",
      "#    295.00ns INFO     cocotb.top_wrapper_tb              Starting layer 0\n",
      "#  27870.00ns INFO     cocotb.top_wrapper_tb              All nodes written.\n",
      "#  27870.00ns INFO     cocotb.top_wrapper_tb              Layer 0 finished.\n",
      "#  27920.00ns INFO     cocotb.top_wrapper_tb              Starting layer 1\n",
      "#  53545.00ns INFO     cocotb.top_wrapper_tb              All nodes written.\n",
      "#  53545.00ns INFO     cocotb.top_wrapper_tb              Layer 1 finished.\n",
      "#  53595.00ns INFO     cocotb.top_wrapper_tb              Starting layer 2\n",
      "#  79070.00ns INFO     cocotb.top_wrapper_tb              All nodes written.\n",
      "#  79070.00ns INFO     cocotb.top_wrapper_tb              Layer 2 finished.\n",
      "#  79120.00ns INFO     cocotb.top_wrapper_tb              Starting layer 3\n",
      "# 104745.00ns INFO     cocotb.top_wrapper_tb              All nodes written.\n",
      "# 104745.00ns INFO     cocotb.top_wrapper_tb              Layer 3 finished.\n",
      "# 104795.00ns INFO     cocotb.top_wrapper_tb              Starting layer 4\n",
      "# 130270.00ns INFO     cocotb.top_wrapper_tb              All nodes written.\n",
      "# 130270.00ns INFO     cocotb.top_wrapper_tb              Layer 4 finished.\n",
      "# 130320.00ns INFO     cocotb.top_wrapper_tb              Starting layer 5\n",
      "# 155795.00ns INFO     cocotb.top_wrapper_tb              All nodes written.\n",
      "# 155795.00ns INFO     cocotb.top_wrapper_tb              Layer 5 finished.\n",
      "# 155845.00ns INFO     cocotb.top_wrapper_tb              Starting layer 6\n",
      "# 181470.00ns INFO     cocotb.top_wrapper_tb              All nodes written.\n",
      "# 181470.00ns INFO     cocotb.top_wrapper_tb              Layer 6 finished.\n",
      "# 181520.00ns INFO     cocotb.top_wrapper_tb              Test finished. Simulation time: 0.18152ms.\n",
      "# 181520.00ns INFO     cocotb.top_wrapper_tb              Layer 0 cycles taken: 4070\n",
      "# 181520.00ns INFO     cocotb.top_wrapper_tb              Layer 1 cycles taken: 3680\n",
      "# 181520.00ns INFO     cocotb.top_wrapper_tb              Layer 2 cycles taken: 3650\n",
      "# 181520.00ns INFO     cocotb.top_wrapper_tb              Layer 3 cycles taken: 3680\n",
      "# 181520.00ns INFO     cocotb.top_wrapper_tb              Layer 4 cycles taken: 3650\n",
      "# 181520.00ns INFO     cocotb.top_wrapper_tb              Layer 5 cycles taken: 3650\n",
      "# 181520.00ns INFO     cocotb.top_wrapper_tb              Layer 6 cycles taken: 3680\n",
      "# 181520.00ns INFO     cocotb.regression                  graph_test passed\n",
      "# 181520.00ns INFO     cocotb.regression                  **************************************************************************************\n",
      "#                                                         ** TEST                          STATUS  SIM TIME (ns)  REAL TIME (s)  RATIO (ns/s) **\n",
      "#                                                         **************************************************************************************\n",
      "#                                                         ** runner.graph_test              PASS      181520.00          56.26       3226.55  **\n",
      "#                                                         **************************************************************************************\n",
      "#                                                         ** TESTS=1 PASS=1 FAIL=0 SKIP=0             181520.00          59.75       3037.81  **\n",
      "#                                                         **************************************************************************************\n",
      "#                                                         \n",
      "# ** Note: $finish    : /home/aw1223/ip/agile/imports/verilog-axi/rtl/axi_ram.v(179)\n",
      "#    Time: 181520001 ps  Iteration: 0  Instance: /top_wrapper_tb\n",
      "# End time: 21:36:27 on Aug 08,2024, Elapsed time: 0:01:14\n",
      "# Errors: 0, Warnings: 0\n",
      "make[1]: Leaving directory '/home/aw1223/ip/agile/hw/sim'\n",
      "| Component   | Metric                   |       Value |\n",
      "|:------------|:-------------------------|------------:|\n",
      "| fpga        | Fpga Latency             |     0.18152 |\n",
      "| fpga        | Fpga Sim Cycle Time      |     0.00013 |\n",
      "| fpga        | Fpga Mean Power          |    30       |\n",
      "| fpga        | Fpga Nodes Per Ms        | 53722.2     |\n",
      "| fpga        | Fpga Throughput Per Watt |  1790.74    |\n"
     ]
    }
   ],
   "source": [
    "# ample.initialize_memory(model,graph)\n",
    "# ample.sim()"
   ]
  },
  {
   "cell_type": "code",
   "execution_count": null,
   "metadata": {},
   "outputs": [],
   "source": []
  },
  {
   "cell_type": "code",
   "execution_count": null,
   "metadata": {},
   "outputs": [],
   "source": [
    "#Use initalize to construct memory map for each model and then string together the dataflow between models"
   ]
  },
  {
   "cell_type": "code",
   "execution_count": null,
   "metadata": {},
   "outputs": [],
   "source": [
    "#Program Agile using device"
   ]
  }
 ],
 "metadata": {
  "kernelspec": {
   "display_name": "base",
   "language": "python",
   "name": "python3"
  },
  "language_info": {
   "codemirror_mode": {
    "name": "ipython",
    "version": 3
   },
   "file_extension": ".py",
   "mimetype": "text/x-python",
   "name": "python",
   "nbconvert_exporter": "python",
   "pygments_lexer": "ipython3",
   "version": "3.11.9"
  }
 },
 "nbformat": 4,
 "nbformat_minor": 2
}
