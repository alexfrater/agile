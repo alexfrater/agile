{
 "cells": [
  {
   "cell_type": "markdown",
   "metadata": {},
   "source": [
    "# Pypci Test\n",
    "\n",
    "Code inspired by: \n",
    "https://www.youtube.com/watch?v=m56rBYnmxME"
   ]
  },
  {
   "cell_type": "code",
   "execution_count": null,
   "metadata": {},
   "outputs": [],
   "source": [
    "import os\n",
    "import mmap\n",
    "import time\n",
    "import datetime\n",
    "import sys\n",
    "import pypci"
   ]
  },
  {
   "cell_type": "code",
   "execution_count": null,
   "metadata": {},
   "outputs": [],
   "source": [
    "pypci.lspci()"
   ]
  },
  {
   "cell_type": "code",
   "execution_count": null,
   "metadata": {},
   "outputs": [],
   "source": [
    "devices  = pypci.lspci()\n",
    "for device in devices:\n",
    "  # print(device.pcie_loc)\n",
    "  if device.vendor_id ==  0x10EE:\n",
    "    print('Xilinx device found:')\n",
    "    print(device)\n",
    "    # print(device.vendor_id)\n",
    "    dev.append(device)\n",
    "print(devices[0])\n",
    "print(len(devices[0].bar))\n",
    "\n",
    "# print(pcie_loc)"
   ]
  },
  {
   "cell_type": "code",
   "execution_count": null,
   "metadata": {},
   "outputs": [],
   "source": [
    "#Save bar to dev\n",
    "\n",
    "dev = pypci.lspci()\n",
    "\n",
    "print(dev[3].bar[0].addr)\n",
    "print(hex(dev[3].bar[0].addr))\n",
    "\n"
   ]
  },
  {
   "cell_type": "code",
   "execution_count": null,
   "metadata": {},
   "outputs": [],
   "source": [
    "#Read from memory - already programmed\n",
    "\n",
    "f = os.open(\"/dev/mem\", os.O_RDONLY)\n",
    "#Set offset correctly\n",
    "mm = mmap.mmap(f, 0x100, flags=mmap.MAP_SHARED, prot = mmap.PROT_READ,offset=0x0)\n",
    "m.seek(0x0)\n",
    "print(m.read(4))"
   ]
  }
 ],
 "metadata": {
  "kernelspec": {
   "display_name": "base",
   "language": "python",
   "name": "python3"
  },
  "language_info": {
   "codemirror_mode": {
    "name": "ipython",
    "version": 3
   },
   "file_extension": ".py",
   "mimetype": "text/x-python",
   "name": "python",
   "nbconvert_exporter": "python",
   "pygments_lexer": "ipython3",
   "version": "3.11.9"
  }
 },
 "nbformat": 4,
 "nbformat_minor": 2
}
