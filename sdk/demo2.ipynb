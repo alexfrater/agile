{
 "cells": [
  {
   "cell_type": "code",
   "execution_count": 1,
   "metadata": {},
   "outputs": [
    {
     "name": "stdout",
     "output_type": "stream",
     "text": [
      "The autoreload extension is already loaded. To reload it, use:\n",
      "  %reload_ext autoreload\n"
     ]
    },
    {
     "name": "stderr",
     "output_type": "stream",
     "text": [
      "/home/aw1223/anaconda3/envs/ample/lib/python3.11/site-packages/tqdm/auto.py:21: TqdmWarning: IProgress not found. Please update jupyter and ipywidgets. See https://ipywidgets.readthedocs.io/en/stable/user_install.html\n",
      "  from .autonotebook import tqdm as notebook_tqdm\n"
     ]
    },
    {
     "name": "stdout",
     "output_type": "stream",
     "text": [
      "Neural LAM Args Namespace(dataset='meps_example', model='graph_lam', subset_ds=True, seed=42, n_workers=1, epochs=1, batch_size=1, load=None, restore_opt=0, precision=32, graph='1level', hidden_dim=64, hidden_layers=1, processor_layers=1, mesh_aggr='sum', output_std=0, ar_steps=1, loss='wmse', step_length=1, lr=0.001, val_interval=1, split='val', n_example_pred=1, n_nodes=50)\n",
      "/home/aw1223/ip/worktree_a/imports/neural-lam\n"
     ]
    }
   ],
   "source": [
    "%reload_ext autoreload\n",
    "%load_ext autoreload\n",
    "%autoreload 2\n",
    "\n",
    "import sys\n",
    "sys.path.insert(0,'/home/aw1223/ip/agile/imports/neural-lam')\n",
    "sys.path.insert(0,'/home/aw1223/ip/agile/imports/neural-lam/neural_lam')\n",
    "\n",
    "sys.path.insert(0,'/home/aw1223/ip/agile')\n",
    "\n",
    "\n",
    "import torch\n",
    "\n",
    "\n",
    "from neural_lam.models.graph_lam import GraphLAM\n",
    "from neural_lam.weather_dataset import WeatherDataset\n",
    "from neural_lam.utils import make_mlp\n",
    "from neural_lam.interaction_net import InteractionNet\n",
    "\n",
    "from sdk.ample import Ample\n",
    "\n",
    "\n",
    "import argparse\n",
    "# Manually create the args Namespace object with the desired parameters\n",
    "args = argparse.Namespace(\n",
    "    dataset='meps_example',\n",
    "    model='graph_lam',\n",
    "    subset_ds=True,\n",
    "    seed=42,\n",
    "    n_workers=1,\n",
    "    epochs=1,\n",
    "    batch_size=1,\n",
    "    load=None,\n",
    "    restore_opt=0,\n",
    "    precision=32,\n",
    "    graph='1level',\n",
    "    hidden_dim=64,\n",
    "    hidden_layers=1,\n",
    "    processor_layers=1,\n",
    "    mesh_aggr='sum',\n",
    "    output_std=0,\n",
    "    ar_steps=1,\n",
    "    loss='wmse',\n",
    "    step_length=1,\n",
    "    lr=0.001,\n",
    "    val_interval=1,\n",
    "    split='val',\n",
    "    n_example_pred=1,\n",
    "    n_nodes =50,\n",
    ")\n",
    "print('Neural LAM Args', args)\n",
    "#Change to neural-lam directory\n",
    "%cd /home/aw1223/ip/worktree_a/imports/neural-lam\n",
    "\n",
    "eval_loader = torch.utils.data.DataLoader(\n",
    "                WeatherDataset(\n",
    "                    args.dataset,\n",
    "                    pred_length=1,\n",
    "                    split=args.split,\n",
    "                    subsample_step=1,\n",
    "                    subset=bool(args.subset_ds),\n",
    "                ),\n",
    "                args.batch_size,\n",
    "                shuffle=False,\n",
    "                num_workers=args.n_workers,\n",
    "            )\n",
    "\n",
    "for batch in eval_loader:\n",
    "    data = batch    \n",
    "    break\n"
   ]
  },
  {
   "cell_type": "code",
   "execution_count": 25,
   "metadata": {},
   "outputs": [
    {
     "name": "stdout",
     "output_type": "stream",
     "text": [
      "Loaded graph with 70345 nodes (63784 grid, 6561 mesh)\n",
      "Edges in subgraphs: m2m=51520, g2m=100656, m2g=255136\n",
      "Moving model to Ample\n",
      "Compiling model\n",
      "prev_state torch.Size([1, 63784, 17])\n",
      "prev_prev_state torch.Size([1, 63784, 17])\n",
      "batch_static_features torch.Size([1, 63784, 1])\n",
      "forcing torch.Size([1, 63784, 15])\n",
      "self.grid_static_features torch.Size([63784, 4])\n",
      "model name GraphLAM\n"
     ]
    },
    {
     "ename": "TypeError",
     "evalue": "BaseGraphModel.forward() missing 1 required positional argument: 'm2g_features'",
     "output_type": "error",
     "traceback": [
      "\u001b[0;31m---------------------------------------------------------------------------\u001b[0m",
      "\u001b[0;31mTypeError\u001b[0m                                 Traceback (most recent call last)",
      "Cell \u001b[0;32mIn[25], line 3\u001b[0m\n\u001b[1;32m      1\u001b[0m ample \u001b[38;5;241m=\u001b[39m Ample()\n\u001b[1;32m      2\u001b[0m model \u001b[38;5;241m=\u001b[39m GraphLAM(args)\n\u001b[0;32m----> 3\u001b[0m \u001b[43mmodel\u001b[49m\u001b[38;5;241;43m.\u001b[39;49m\u001b[43mto_device\u001b[49m\u001b[43m(\u001b[49m\u001b[38;5;124;43m'\u001b[39;49m\u001b[38;5;124;43mample\u001b[39;49m\u001b[38;5;124;43m'\u001b[39;49m\u001b[43m,\u001b[49m\u001b[43mdata\u001b[49m\u001b[38;5;241;43m=\u001b[39;49m\u001b[43mdata\u001b[49m\u001b[43m)\u001b[49m\n",
      "File \u001b[0;32m~/ip/agile/sdk/ample.py:83\u001b[0m, in \u001b[0;36mAmple.add_to_device_method.<locals>.extended_to_device\u001b[0;34m(model, device, data)\u001b[0m\n\u001b[1;32m     82\u001b[0m \u001b[38;5;28;01mdef\u001b[39;00m \u001b[38;5;21mextended_to_device\u001b[39m(model, device, data\u001b[38;5;241m=\u001b[39m\u001b[38;5;28;01mNone\u001b[39;00m): \u001b[38;5;66;03m#Figure out if there is a way to change this\u001b[39;00m\n\u001b[0;32m---> 83\u001b[0m     \u001b[43mample_instance\u001b[49m\u001b[38;5;241;43m.\u001b[39;49m\u001b[43mto_device\u001b[49m\u001b[43m(\u001b[49m\u001b[43mmodel\u001b[49m\u001b[43m,\u001b[49m\u001b[43m \u001b[49m\u001b[43mdevice\u001b[49m\u001b[43m,\u001b[49m\u001b[43mdata\u001b[49m\u001b[43m)\u001b[49m\n",
      "File \u001b[0;32m~/ip/agile/sdk/ample.py:103\u001b[0m, in \u001b[0;36mAmple.to_device\u001b[0;34m(self, model, device, data)\u001b[0m\n\u001b[1;32m    101\u001b[0m     \u001b[38;5;28mprint\u001b[39m(\u001b[38;5;124m'\u001b[39m\u001b[38;5;124mCompiling model\u001b[39m\u001b[38;5;124m'\u001b[39m)\n\u001b[1;32m    102\u001b[0m     \u001b[38;5;66;03m# self.compile(model,data_loader=data_loader,trace_mode='hooks')\u001b[39;00m\n\u001b[0;32m--> 103\u001b[0m     \u001b[38;5;28;43mself\u001b[39;49m\u001b[38;5;241;43m.\u001b[39;49m\u001b[43mcompile\u001b[49m\u001b[43m(\u001b[49m\u001b[43mmodel\u001b[49m\u001b[43m,\u001b[49m\u001b[43mdata\u001b[49m\u001b[38;5;241;43m=\u001b[39;49m\u001b[43mdata\u001b[49m\u001b[43m,\u001b[49m\u001b[43mtrace_mode\u001b[49m\u001b[38;5;241;43m=\u001b[39;49m\u001b[38;5;124;43m'\u001b[39;49m\u001b[38;5;124;43mhooks\u001b[39;49m\u001b[38;5;124;43m'\u001b[39;49m\u001b[43m)\u001b[49m\n\u001b[1;32m    105\u001b[0m     \u001b[38;5;66;03m# self.copy_data_to_device(data)\u001b[39;00m\n\u001b[1;32m    106\u001b[0m     \u001b[38;5;66;03m# self.model = model\u001b[39;00m\n\u001b[1;32m    107\u001b[0m \u001b[38;5;28;01melse\u001b[39;00m:\n\u001b[1;32m    108\u001b[0m     \u001b[38;5;28mprint\u001b[39m(\u001b[38;5;124mf\u001b[39m\u001b[38;5;124m'\u001b[39m\u001b[38;5;124mMoving model to \u001b[39m\u001b[38;5;132;01m{\u001b[39;00mdevice\u001b[38;5;132;01m}\u001b[39;00m\u001b[38;5;124m'\u001b[39m)\n",
      "File \u001b[0;32m~/ip/agile/sdk/ample.py:140\u001b[0m, in \u001b[0;36mAmple.compile\u001b[0;34m(self, model, data, base_path, precision, reduce, random, trained, plot, trace_mode)\u001b[0m\n\u001b[1;32m    138\u001b[0m     \u001b[38;5;28mself\u001b[39m\u001b[38;5;241m.\u001b[39mtrace_model_fx(\u001b[38;5;28mself\u001b[39m\u001b[38;5;241m.\u001b[39mmodel, graph_data)\n\u001b[1;32m    139\u001b[0m \u001b[38;5;28;01melse\u001b[39;00m:\n\u001b[0;32m--> 140\u001b[0m     data,input_to_layer_map \u001b[38;5;241m=\u001b[39m \u001b[38;5;28;43mself\u001b[39;49m\u001b[38;5;241;43m.\u001b[39;49m\u001b[43mtrace_model_hooks_dataloader_inputs\u001b[49m\u001b[43m(\u001b[49m\u001b[38;5;28;43mself\u001b[39;49m\u001b[38;5;241;43m.\u001b[39;49m\u001b[43mmodel\u001b[49m\u001b[43m,\u001b[49m\u001b[43m \u001b[49m\u001b[43mmodel_inputs\u001b[49m\u001b[43m)\u001b[49m\n\u001b[1;32m    141\u001b[0m     \u001b[38;5;28mprint\u001b[39m(\u001b[38;5;124m'\u001b[39m\u001b[38;5;124minput_to_layer_map\u001b[39m\u001b[38;5;124m'\u001b[39m,input_to_layer_map)\n\u001b[1;32m    142\u001b[0m \u001b[38;5;28;01mif\u001b[39;00m plot:\n",
      "File \u001b[0;32m~/ip/agile/sdk/ample.py:353\u001b[0m, in \u001b[0;36mAmple.trace_model_hooks_dataloader_inputs\u001b[0;34m(self, model, data)\u001b[0m\n\u001b[1;32m    351\u001b[0m model\u001b[38;5;241m.\u001b[39meval()        \n\u001b[1;32m    352\u001b[0m \u001b[38;5;28;01mwith\u001b[39;00m torch\u001b[38;5;241m.\u001b[39mno_grad():\n\u001b[0;32m--> 353\u001b[0m     \u001b[43mmodel\u001b[49m\u001b[38;5;241;43m.\u001b[39;49m\u001b[43mforward\u001b[49m\u001b[43m(\u001b[49m\u001b[43mdata\u001b[49m\u001b[43m)\u001b[49m  \u001b[38;5;66;03m# Trigger forward pass\u001b[39;00m\n\u001b[1;32m    355\u001b[0m \u001b[38;5;66;03m# Additional step to map input tensors to the corresponding model layers\u001b[39;00m\n\u001b[1;32m    356\u001b[0m input_to_layer_map \u001b[38;5;241m=\u001b[39m {}\n",
      "\u001b[0;31mTypeError\u001b[0m: BaseGraphModel.forward() missing 1 required positional argument: 'm2g_features'"
     ]
    }
   ],
   "source": [
    "ample = Ample()\n",
    "model = GraphLAM(args)\n",
    "model.to_device('ample',data=data)"
   ]
  },
  {
   "cell_type": "code",
   "execution_count": 12,
   "metadata": {},
   "outputs": [
    {
     "name": "stdout",
     "output_type": "stream",
     "text": [
      "/home/aw1223/ip/worktree_a/imports/neural-lam\n",
      "prev_state torch.Size([63784, 17])\n",
      "prev_prev_state torch.Size([63784, 17])\n",
      "batch_static_features torch.Size([63784, 1])\n",
      "forcing torch.Size([63784, 15])\n",
      "self.grid_static_features torch.Size([63784, 4])\n"
     ]
    },
    {
     "ename": "TypeError",
     "evalue": "GraphLam_model.__init__() missing 1 required positional argument: 'args'",
     "output_type": "error",
     "traceback": [
      "\u001b[0;31m---------------------------------------------------------------------------\u001b[0m",
      "\u001b[0;31mTypeError\u001b[0m                                 Traceback (most recent call last)",
      "Cell \u001b[0;32mIn[12], line 28\u001b[0m\n\u001b[1;32m     24\u001b[0m data_processor \u001b[38;5;241m=\u001b[39m GraphLAM_DataProcessor(dataset,graph\u001b[38;5;241m=\u001b[39m\u001b[38;5;124m'\u001b[39m\u001b[38;5;124m1level\u001b[39m\u001b[38;5;124m'\u001b[39m)\n\u001b[1;32m     25\u001b[0m data \u001b[38;5;241m=\u001b[39m data_processor\u001b[38;5;241m.\u001b[39mpreprocess_inputs(eval_loader)\n\u001b[0;32m---> 28\u001b[0m model \u001b[38;5;241m=\u001b[39m \u001b[43mGraphLam_model\u001b[49m\u001b[43m(\u001b[49m\u001b[43m)\u001b[49m\n\u001b[1;32m     29\u001b[0m out \u001b[38;5;241m=\u001b[39m model(data)\n",
      "\u001b[0;31mTypeError\u001b[0m: GraphLam_model.__init__() missing 1 required positional argument: 'args'"
     ]
    }
   ],
   "source": [
    "import sys\n",
    "sys.path.insert(0,'/home/aw1223/ip/agile')\n",
    "\n",
    "import torch\n",
    "from sdk.models.graph_lam import GraphLAM_DataProcessor\n",
    "from sdk.models.graph_lam import GraphLam_model\n",
    "from neural_lam.weather_dataset import WeatherDataset\n",
    "\n",
    "%cd /home/aw1223/ip/worktree_a/imports/neural-lam\n",
    "dataset='meps_example'\n",
    "\n",
    "eval_loader = torch.utils.data.DataLoader(\n",
    "                WeatherDataset(\n",
    "                    dataset,\n",
    "                    pred_length=1,\n",
    "                    split='test',\n",
    "                    subsample_step=1,\n",
    "                ),\n",
    "                1,\n",
    "                shuffle=False,\n",
    "                num_workers=1,\n",
    "            )\n",
    "\n",
    "data_processor = GraphLAM_DataProcessor(dataset,graph='1level')\n",
    "data = data_processor.preprocess_inputs(eval_loader)\n",
    "\n",
    "\n",
    "model = GraphLam_model()\n",
    "out = model(data)\n"
   ]
  }
 ],
 "metadata": {
  "kernelspec": {
   "display_name": "base",
   "language": "python",
   "name": "python3"
  },
  "language_info": {
   "codemirror_mode": {
    "name": "ipython",
    "version": 3
   },
   "file_extension": ".py",
   "mimetype": "text/x-python",
   "name": "python",
   "nbconvert_exporter": "python",
   "pygments_lexer": "ipython3",
   "version": "3.11.9"
  }
 },
 "nbformat": 4,
 "nbformat_minor": 2
}
