{
 "cells": [
  {
   "cell_type": "code",
   "execution_count": 1,
   "metadata": {},
   "outputs": [
    {
     "name": "stdout",
     "output_type": "stream",
     "text": [
      "/home/aw1223/ip/worktree_a/imports/neural-lam\n",
      "prev_state torch.Size([63784, 17])\n",
      "prev_prev_state torch.Size([63784, 17])\n",
      "batch_static_features torch.Size([63784, 1])\n",
      "forcing torch.Size([63784, 15])\n",
      "self.grid_static_features torch.Size([63784, 4])\n",
      "gridfeautes shape torch.Size([63784, 54])\n",
      "m2m_edge_index tensor([[   0,    0,    0,  ..., 6560, 6560, 6560],\n",
      "        [  81,    1,   82,  ..., 6479, 6559, 6478]])\n",
      "g2m_edge_index tensor([[ 6561,  6562,  6563,  ..., 70342, 70343, 70344],\n",
      "        [    0,     0,     0,  ...,  6560,  6560,  6560]])\n",
      "m2g_edge_index tensor([[    0,     0,     0,  ...,  6560,  6560,  6560],\n",
      "        [ 6561,  6562,  6563,  ..., 70342, 70343, 70344]])\n",
      "Edges in subgraphs: m2m=51520, g2m=100656, m2g=255136\n",
      "Loaded graph with 70345 nodes (63784 grid, 6561 mesh)\n",
      "tensor([[-0.2823, -0.2220,  0.3153,  ...,  0.3868,  0.2762,  0.2029],\n",
      "        [-0.2887, -0.2058,  0.3415,  ...,  0.3760,  0.2897,  0.2081],\n",
      "        [-0.2904, -0.2045,  0.3382,  ...,  0.3725,  0.2997,  0.2094],\n",
      "        ...,\n",
      "        [-0.0641, -0.3058,  0.0272,  ...,  0.2456,  0.1169,  0.1625],\n",
      "        [-0.0804, -0.3267,  0.0248,  ...,  0.2522,  0.1459,  0.1254],\n",
      "        [-0.0816, -0.3239,  0.0503,  ...,  0.2489,  0.1230,  0.1518]],\n",
      "       grad_fn=<AddmmBackward0>)\n"
     ]
    }
   ],
   "source": [
    "# %reload_ext autoreload\n",
    "# %load_ext autoreload\n",
    "\n",
    "import sys\n",
    "sys.path.insert(0,'/home/aw1223/ip/agile')\n",
    "sys.path.insert(0,'/home/aw1223/ip/agile/imports/neural-lam')\n",
    "sys.path.insert(0,'/home/aw1223/ip/agile/imports/neural-lam/neural_lam')\n",
    "\n",
    "import torch\n",
    "from sdk.models.graph_lam import GraphLAM_DataProcessor\n",
    "from sdk.models.graph_lam import GraphLam_Model\n",
    "from neural_lam.weather_dataset import WeatherDataset\n",
    "\n",
    "%cd /home/aw1223/ip/worktree_a/imports/neural-lam\n",
    "dataset='meps_example'\n",
    "\n",
    "eval_loader = torch.utils.data.DataLoader(\n",
    "                WeatherDataset(\n",
    "                    dataset,\n",
    "                    pred_length=1,\n",
    "                    split='test',\n",
    "                    subsample_step=1,\n",
    "                ),\n",
    "                batch_size=1,\n",
    "                shuffle=False,\n",
    "                num_workers=1,\n",
    "            )\n",
    "\n",
    "data_processor = GraphLAM_DataProcessor(dataset,graph='1level')\n",
    "graph_data = data_processor.preprocess_inputs(eval_loader,n_nodes = None)\n",
    "# print(graph_data)\n",
    "\n",
    "feature_shape_dict = graph_data['shapes']\n",
    "edge_index_dict = graph_data['edges']\n",
    "# print(edge_index_dict)\n",
    "\n",
    "model = GraphLam_Model(feature_shape_dict,edge_index_dict)\n",
    "# #Change data to a list of inputs\n",
    "# print(graph_data['features'])\n",
    "\n",
    "# print('grid_features',graph_data['features']['grid_features'].shape)\n",
    "# print('mesh_static_features',graph_data['features']['mesh_static_features'].shape)\n",
    "# print('g2m_features',graph_data['features']['g2m_features'].shape)\n",
    "# print('m2m_features',graph_data['features']['m2m_features'].shape)\n",
    "# print('m2g_features',graph_data['features']['m2g_features'].shape)\n",
    "\n",
    "\n",
    "grid_features = graph_data['features']['grid_features']\n",
    "mesh_static_features = graph_data['features']['mesh_static_features']\n",
    "g2m_features = graph_data['features']['g2m_features']\n",
    "m2m_features = graph_data['features']['m2m_features']\n",
    "m2g_features = graph_data['features']['m2g_features']\n",
    "\n",
    "out = model(grid_features =grid_features ,mesh_static_features=mesh_static_features,g2m_features=g2m_features,m2m_features=m2m_features,m2g_features=m2g_features)\n",
    "print(out)\n",
    "\n"
   ]
  },
  {
   "cell_type": "code",
   "execution_count": null,
   "metadata": {},
   "outputs": [
    {
     "name": "stdout",
     "output_type": "stream",
     "text": [
      "Moving model to Ample\n",
      "Compiling model\n"
     ]
    },
    {
     "ename": "AttributeError",
     "evalue": "'GraphLam_model' object has no attribute 'preprocess_inputs'",
     "output_type": "error",
     "traceback": [
      "\u001b[0;31m---------------------------------------------------------------------------\u001b[0m",
      "\u001b[0;31mAttributeError\u001b[0m                            Traceback (most recent call last)",
      "Cell \u001b[0;32mIn[6], line 6\u001b[0m\n\u001b[1;32m      3\u001b[0m ample \u001b[38;5;241m=\u001b[39m Ample()\n\u001b[1;32m      4\u001b[0m \u001b[38;5;66;03m# model = GraphLam_Model()\u001b[39;00m\n\u001b[0;32m----> 6\u001b[0m \u001b[43mmodel\u001b[49m\u001b[38;5;241;43m.\u001b[39;49m\u001b[43mto_device\u001b[49m\u001b[43m(\u001b[49m\u001b[38;5;124;43m'\u001b[39;49m\u001b[38;5;124;43mample\u001b[39;49m\u001b[38;5;124;43m'\u001b[39;49m\u001b[43m)\u001b[49m\n",
      "File \u001b[0;32m~/ip/agile/sdk/ample.py:83\u001b[0m, in \u001b[0;36mAmple.add_to_device_method.<locals>.extended_to_device\u001b[0;34m(model, device, data)\u001b[0m\n\u001b[1;32m     82\u001b[0m \u001b[38;5;28;01mdef\u001b[39;00m \u001b[38;5;21mextended_to_device\u001b[39m(model, device, data\u001b[38;5;241m=\u001b[39m\u001b[38;5;28;01mNone\u001b[39;00m): \u001b[38;5;66;03m#Figure out if there is a way to change this\u001b[39;00m\n\u001b[0;32m---> 83\u001b[0m     \u001b[43mample_instance\u001b[49m\u001b[38;5;241;43m.\u001b[39;49m\u001b[43mto_device\u001b[49m\u001b[43m(\u001b[49m\u001b[43mmodel\u001b[49m\u001b[43m,\u001b[49m\u001b[43m \u001b[49m\u001b[43mdevice\u001b[49m\u001b[43m,\u001b[49m\u001b[43mdata\u001b[49m\u001b[43m)\u001b[49m\n",
      "File \u001b[0;32m~/ip/agile/sdk/ample.py:103\u001b[0m, in \u001b[0;36mAmple.to_device\u001b[0;34m(self, model, device, data)\u001b[0m\n\u001b[1;32m    101\u001b[0m     \u001b[38;5;28mprint\u001b[39m(\u001b[38;5;124m'\u001b[39m\u001b[38;5;124mCompiling model\u001b[39m\u001b[38;5;124m'\u001b[39m)\n\u001b[1;32m    102\u001b[0m     \u001b[38;5;66;03m# self.compile(model,data_loader=data_loader,trace_mode='hooks')\u001b[39;00m\n\u001b[0;32m--> 103\u001b[0m     \u001b[38;5;28;43mself\u001b[39;49m\u001b[38;5;241;43m.\u001b[39;49m\u001b[43mcompile\u001b[49m\u001b[43m(\u001b[49m\u001b[43mmodel\u001b[49m\u001b[43m,\u001b[49m\u001b[43mdata\u001b[49m\u001b[38;5;241;43m=\u001b[39;49m\u001b[43mdata\u001b[49m\u001b[43m,\u001b[49m\u001b[43mtrace_mode\u001b[49m\u001b[38;5;241;43m=\u001b[39;49m\u001b[38;5;124;43m'\u001b[39;49m\u001b[38;5;124;43mhooks\u001b[39;49m\u001b[38;5;124;43m'\u001b[39;49m\u001b[43m)\u001b[49m\n\u001b[1;32m    105\u001b[0m     \u001b[38;5;66;03m# self.copy_data_to_device(data)\u001b[39;00m\n\u001b[1;32m    106\u001b[0m     \u001b[38;5;66;03m# self.model = model\u001b[39;00m\n\u001b[1;32m    107\u001b[0m \u001b[38;5;28;01melse\u001b[39;00m:\n\u001b[1;32m    108\u001b[0m     \u001b[38;5;28mprint\u001b[39m(\u001b[38;5;124mf\u001b[39m\u001b[38;5;124m'\u001b[39m\u001b[38;5;124mMoving model to \u001b[39m\u001b[38;5;132;01m{\u001b[39;00mdevice\u001b[38;5;132;01m}\u001b[39;00m\u001b[38;5;124m'\u001b[39m)\n",
      "File \u001b[0;32m~/ip/agile/sdk/ample.py:130\u001b[0m, in \u001b[0;36mAmple.compile\u001b[0;34m(self, model, data, base_path, precision, reduce, random, trained, plot, trace_mode)\u001b[0m\n\u001b[1;32m    128\u001b[0m \u001b[38;5;28mself\u001b[39m\u001b[38;5;241m.\u001b[39mmodel_name \u001b[38;5;241m=\u001b[39m \u001b[38;5;28mself\u001b[39m\u001b[38;5;241m.\u001b[39mmodel\u001b[38;5;241m.\u001b[39m\u001b[38;5;18m__class__\u001b[39m\u001b[38;5;241m.\u001b[39m\u001b[38;5;18m__name__\u001b[39m\n\u001b[1;32m    129\u001b[0m \u001b[38;5;28mself\u001b[39m\u001b[38;5;241m.\u001b[39mmem_append\u001b[38;5;241m=\u001b[39m \u001b[38;5;28;01mFalse\u001b[39;00m\n\u001b[0;32m--> 130\u001b[0m model_inputs \u001b[38;5;241m=\u001b[39m \u001b[43mmodel\u001b[49m\u001b[38;5;241;43m.\u001b[39;49m\u001b[43mpreprocess_inputs\u001b[49m(data)\n\u001b[1;32m    132\u001b[0m \u001b[38;5;28mprint\u001b[39m(\u001b[38;5;124m'\u001b[39m\u001b[38;5;124mmodel name\u001b[39m\u001b[38;5;124m'\u001b[39m,\u001b[38;5;28mself\u001b[39m\u001b[38;5;241m.\u001b[39mmodel_name)\n\u001b[1;32m    133\u001b[0m \u001b[38;5;28;01mif\u001b[39;00m trace_mode \u001b[38;5;241m==\u001b[39m \u001b[38;5;124m'\u001b[39m\u001b[38;5;124mfx\u001b[39m\u001b[38;5;124m'\u001b[39m:\n",
      "File \u001b[0;32m~/anaconda3/envs/ample/lib/python3.11/site-packages/torch/nn/modules/module.py:1709\u001b[0m, in \u001b[0;36mModule.__getattr__\u001b[0;34m(self, name)\u001b[0m\n\u001b[1;32m   1707\u001b[0m     \u001b[38;5;28;01mif\u001b[39;00m name \u001b[38;5;129;01min\u001b[39;00m modules:\n\u001b[1;32m   1708\u001b[0m         \u001b[38;5;28;01mreturn\u001b[39;00m modules[name]\n\u001b[0;32m-> 1709\u001b[0m \u001b[38;5;28;01mraise\u001b[39;00m \u001b[38;5;167;01mAttributeError\u001b[39;00m(\u001b[38;5;124mf\u001b[39m\u001b[38;5;124m\"\u001b[39m\u001b[38;5;124m'\u001b[39m\u001b[38;5;132;01m{\u001b[39;00m\u001b[38;5;28mtype\u001b[39m(\u001b[38;5;28mself\u001b[39m)\u001b[38;5;241m.\u001b[39m\u001b[38;5;18m__name__\u001b[39m\u001b[38;5;132;01m}\u001b[39;00m\u001b[38;5;124m'\u001b[39m\u001b[38;5;124m object has no attribute \u001b[39m\u001b[38;5;124m'\u001b[39m\u001b[38;5;132;01m{\u001b[39;00mname\u001b[38;5;132;01m}\u001b[39;00m\u001b[38;5;124m'\u001b[39m\u001b[38;5;124m\"\u001b[39m)\n",
      "\u001b[0;31mAttributeError\u001b[0m: 'GraphLam_model' object has no attribute 'preprocess_inputs'"
     ]
    }
   ],
   "source": [
    "from sdk.ample import Ample\n",
    "\n",
    "ample = Ample()\n",
    "# model = GraphLam_Model()\n",
    "\n",
    "model.to_device('ample')"
   ]
  }
 ],
 "metadata": {
  "kernelspec": {
   "display_name": "base",
   "language": "python",
   "name": "python3"
  },
  "language_info": {
   "codemirror_mode": {
    "name": "ipython",
    "version": 3
   },
   "file_extension": ".py",
   "mimetype": "text/x-python",
   "name": "python",
   "nbconvert_exporter": "python",
   "pygments_lexer": "ipython3",
   "version": "3.11.9"
  }
 },
 "nbformat": 4,
 "nbformat_minor": 2
}
