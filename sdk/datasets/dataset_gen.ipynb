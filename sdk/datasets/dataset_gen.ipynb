{
 "cells": [
  {
   "cell_type": "code",
   "execution_count": null,
   "metadata": {},
   "outputs": [],
   "source": [
    "#Save dataset to a file then iterate through it when testing to get a fair test between servers\n",
    "\n",
    "\n",
    "\n",
    "torch.save(dataset, 'dataset.pt')\n",
    "\n",
    "# Optionally, you can save specific attributes of the dataset individually\n",
    "torch.save({\n",
    "    'edge_attr': dataset.edge_attr,\n",
    "    'edge_index': dataset.edge_index,\n",
    "    'x': dataset.x\n",
    "}, 'dataset_attributes.pt')"
   ]
  }
 ],
 "metadata": {
  "language_info": {
   "name": "python"
  }
 },
 "nbformat": 4,
 "nbformat_minor": 2
}
