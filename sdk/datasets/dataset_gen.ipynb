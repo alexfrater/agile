{
 "cells": [
  {
   "cell_type": "code",
   "execution_count": 1,
   "metadata": {},
   "outputs": [],
   "source": [
    "\n",
    "%load_ext autoreload\n",
    "%autoreload 2\n",
    "import sys\n",
    "sys.path.insert(0,\"/home/aw1223/agile\")\n",
    "\n",
    "import torch\n",
    "from fake_data import FakeDataset\n",
    "from sdk.models.graphcast import Graphcast\n",
    "# List of different numbers of nodes\n",
    "nodes_list = [10, 50, 100, 500, 1000]\n",
    "model = Graphcast()\n",
    "# Create an empty dictionary to store datasets\n",
    "data_dict = {}\n",
    "# Loop through the node list and generate datasets\n",
    "\n",
    "for num_nodes in nodes_list:\n",
    "    dataset = FakeDataset(\n",
    "        num_graphs=1, \n",
    "        num_nodes=num_nodes,\n",
    "        degree=8,\n",
    "        num_channels=32,\n",
    "        edge_dim=32\n",
    "    )[0]\n",
    "    inputs = [dataset.edge_attr,\n",
    "          dataset.edge_index,\n",
    "          dataset.x,\n",
    "          (dataset.edge_attr + 0.1), #Add 0.1 so tensor ID is different\n",
    "          dataset.edge_index]\n",
    "    # Use the number of nodes as the key in the dictionary\n",
    "    data_dict[f'dataset_{num_nodes}_nodes'] = dataset\n",
    "outputs_model, grid_mesh_emb = model(*inputs)\n",
    "# Save the dictionary with all datasets\n",
    "torch.save(data_dict, 'datasets_by_nodes.pt')\n"
   ]
  },
  {
   "cell_type": "code",
   "execution_count": 3,
   "metadata": {},
   "outputs": [
    {
     "name": "stdout",
     "output_type": "stream",
     "text": [
      "The autoreload extension is already loaded. To reload it, use:\n",
      "  %reload_ext autoreload\n"
     ]
    }
   ],
   "source": [
    "%load_ext autoreload\n",
    "%autoreload 2\n",
    "import sys\n",
    "sys.path.insert(0,\"/home/aw1223/agile\")\n",
    "\n",
    "\n",
    "import torch\n",
    "from fake_data import FakeDataset\n",
    "from sdk.models.graphcast import Graphcast\n",
    "\n",
    "# List of different numbers of nodes\n",
    "nodes_list = [10, 50, 100, 500, 1000]\n",
    "\n",
    "# Create an empty dictionary to store datasets\n",
    "data_dict = {}\n",
    "\n",
    "# Loop through the node list and generate datasets\n",
    "for num_nodes in nodes_list:\n",
    "    dataset = FakeDataset(\n",
    "        num_graphs=1, \n",
    "        num_nodes=num_nodes,\n",
    "        degree=3,\n",
    "        num_channels=32,\n",
    "        edge_dim=32\n",
    "    )[0]\n",
    "    \n",
    "    # Use the number of nodes as the key in the dictionary\n",
    "    data_dict[f'dataset_{num_nodes}_nodes'] = dataset\n",
    "\n",
    "# Initialize the model\n",
    "model = Graphcast()\n",
    "\n",
    "# Optionally run the model to ensure it is used before saving (for example, using the last dataset)\n",
    "# Prepare the inputs from the last dataset (as an example)\n",
    "inputs = [\n",
    "    dataset.edge_attr,\n",
    "    dataset.edge_index,\n",
    "    dataset.x,\n",
    "    (dataset.edge_attr + 0.1),\n",
    "    dataset.edge_index\n",
    "]\n",
    "\n",
    "# Run the model with these inputs\n",
    "outputs_model, grid_mesh_emb = model(*inputs)\n",
    "\n",
    "# Now create a dictionary to save both the datasets and the model's state dict\n",
    "save_dict = {\n",
    "    'datasets': data_dict,\n",
    "    'model_state_dict': model.state_dict()  # Save the model's weights and parameters\n",
    "}\n",
    "\n",
    "# Save the dictionary with datasets and model state dict\n",
    "torch.save(save_dict, 'datasets_and_model.pt')\n"
   ]
  },
  {
   "cell_type": "code",
   "execution_count": null,
   "metadata": {},
   "outputs": [],
   "source": []
  }
 ],
 "metadata": {
  "kernelspec": {
   "display_name": "ample",
   "language": "python",
   "name": "python3"
  },
  "language_info": {
   "codemirror_mode": {
    "name": "ipython",
    "version": 3
   },
   "file_extension": ".py",
   "mimetype": "text/x-python",
   "name": "python",
   "nbconvert_exporter": "python",
   "pygments_lexer": "ipython3",
   "version": "3.11.9"
  }
 },
 "nbformat": 4,
 "nbformat_minor": 2
}
